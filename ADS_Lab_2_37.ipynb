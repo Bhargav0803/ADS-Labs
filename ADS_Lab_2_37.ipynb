{
  "nbformat": 4,
  "nbformat_minor": 0,
  "metadata": {
    "colab": {
      "provenance": [],
      "authorship_tag": "ABX9TyPaAhNhHyGfXDWr2p6x7PkJ",
      "include_colab_link": true
    },
    "kernelspec": {
      "name": "python3",
      "display_name": "Python 3"
    },
    "language_info": {
      "name": "python"
    }
  },
  "cells": [
    {
      "cell_type": "markdown",
      "metadata": {
        "id": "view-in-github",
        "colab_type": "text"
      },
      "source": [
        "<a href=\"https://colab.research.google.com/github/Bhargav0803/ADS-Labs/blob/main/ADS_Lab_2_37.ipynb\" target=\"_parent\"><img src=\"https://colab.research.google.com/assets/colab-badge.svg\" alt=\"Open In Colab\"/></a>"
      ]
    },
    {
      "cell_type": "code",
      "source": [
        "import pandas as pd\n",
        "import numpy as np"
      ],
      "metadata": {
        "id": "DWCRTKu259_C"
      },
      "execution_count": null,
      "outputs": []
    },
    {
      "cell_type": "code",
      "source": [
        "df = pd.read_csv('Crop_recommendation.csv')"
      ],
      "metadata": {
        "id": "M9PRYD4E6uia"
      },
      "execution_count": null,
      "outputs": []
    },
    {
      "cell_type": "code",
      "source": [
        "def generate_random_indices(rows, cols, num_indices):\n",
        "    random_rows = np.random.choice(rows, num_indices, replace=False)\n",
        "    random_cols = np.random.choice(cols, num_indices, replace=True)\n",
        "    return random_rows, random_cols\n",
        "\n",
        "num_missing_values = 200\n",
        "rows_to_make_missing, cols_to_make_missing = generate_random_indices(df.shape[0], df.shape[1], num_missing_values)\n",
        "\n",
        "for row, col in zip(rows_to_make_missing, cols_to_make_missing):\n",
        "    df.iloc[row, col] = np.nan\n",
        "\n",
        "# Display the DataFrame with missing values\n",
        "print(\"DataFrame with Missing Values:\")\n",
        "print(df)"
      ],
      "metadata": {
        "colab": {
          "base_uri": "https://localhost:8080/"
        },
        "id": "DXEu1eNH7R_f",
        "outputId": "0681eebb-4a55-4d97-f82c-f1f9c8d3dfc1"
      },
      "execution_count": null,
      "outputs": [
        {
          "output_type": "stream",
          "name": "stdout",
          "text": [
            "DataFrame with Missing Values:\n",
            "          N     P     K  temperature   humidity        ph    rainfall   label\n",
            "0      90.0  42.0  43.0    20.879744  82.002744  6.502985  202.935536    rice\n",
            "1      85.0  58.0  41.0    21.770462  80.319644  7.038096  226.655537    rice\n",
            "2      60.0  55.0  44.0    23.004459  82.320763  7.840207  263.964248    rice\n",
            "3      74.0  35.0  40.0    26.491096  80.158363  6.980401  242.864034    rice\n",
            "4      78.0  42.0  42.0    20.130175  81.604873  7.628473  262.717340    rice\n",
            "...     ...   ...   ...          ...        ...       ...         ...     ...\n",
            "2195  107.0  34.0  32.0    26.774637  66.413269  6.780064  177.774507  coffee\n",
            "2196   99.0  15.0  27.0    27.417112  56.636362  6.086922  127.924610  coffee\n",
            "2197  118.0  33.0  30.0    24.131797        NaN  6.362608  173.322839  coffee\n",
            "2198  117.0  32.0  34.0    26.272418  52.127394  6.758793  127.175293  coffee\n",
            "2199  104.0  18.0  30.0    23.603016        NaN  6.779833  140.937041  coffee\n",
            "\n",
            "[2200 rows x 8 columns]\n"
          ]
        }
      ]
    },
    {
      "cell_type": "code",
      "source": [
        "df = df.drop(\"label\", axis=1)\n",
        "\n"
      ],
      "metadata": {
        "id": "3kbFlfyA8E_Q"
      },
      "execution_count": null,
      "outputs": []
    },
    {
      "cell_type": "code",
      "source": [
        "# 1. Fill missing values with the maximum value in the column\n",
        "df_max = df.fillna(df.max())\n",
        "\n",
        "print(\"\\nCleaned Dataset - Max Value:\")\n",
        "print(df_max.head())"
      ],
      "metadata": {
        "colab": {
          "base_uri": "https://localhost:8080/"
        },
        "id": "AKe6dUXr9Pqw",
        "outputId": "7d0678a9-6ed7-4170-a934-3d0bbf84f951"
      },
      "execution_count": null,
      "outputs": [
        {
          "output_type": "stream",
          "name": "stdout",
          "text": [
            "\n",
            "Cleaned Dataset - Max Value:\n",
            "      N     P     K  temperature   humidity        ph    rainfall\n",
            "0  90.0  42.0  43.0    20.879744  82.002744  6.502985  202.935536\n",
            "1  85.0  58.0  41.0    21.770462  80.319644  7.038096  226.655537\n",
            "2  60.0  55.0  44.0    23.004459  82.320763  7.840207  263.964248\n",
            "3  74.0  35.0  40.0    26.491096  80.158363  6.980401  242.864034\n",
            "4  78.0  42.0  42.0    20.130175  81.604873  7.628473  262.717340\n"
          ]
        }
      ]
    },
    {
      "cell_type": "code",
      "source": [
        "# 2. Fill missing values with the minimum value in the column\n",
        "df_min = df.fillna(df.min())\n",
        "\n",
        "print(\"\\nCleaned Dataset - Min Value:\")\n",
        "print(df_min.head())\n"
      ],
      "metadata": {
        "colab": {
          "base_uri": "https://localhost:8080/"
        },
        "id": "f-rBXQfD9R_E",
        "outputId": "31897c4e-ec55-44dc-8bdb-674dd3167519"
      },
      "execution_count": null,
      "outputs": [
        {
          "output_type": "stream",
          "name": "stdout",
          "text": [
            "\n",
            "Cleaned Dataset - Min Value:\n",
            "      N     P     K  temperature   humidity        ph    rainfall\n",
            "0  90.0  42.0  43.0    20.879744  82.002744  6.502985  202.935536\n",
            "1  85.0  58.0  41.0    21.770462  80.319644  7.038096  226.655537\n",
            "2  60.0  55.0  44.0    23.004459  82.320763  7.840207  263.964248\n",
            "3  74.0  35.0  40.0    26.491096  80.158363  6.980401  242.864034\n",
            "4  78.0  42.0  42.0    20.130175  81.604873  7.628473  262.717340\n"
          ]
        }
      ]
    },
    {
      "cell_type": "code",
      "source": [
        "# 3. Fill missing values using k-means clustering\n",
        "from sklearn.impute import KNNImputer\n",
        "knn_imputer = KNNImputer(n_neighbors=2)\n",
        "df_kmeans = pd.DataFrame(data=knn_imputer.fit_transform(df), columns=df.columns)\n",
        "print(\"\\nCleaned Dataset - K-means:\")\n",
        "print(df_kmeans.head())"
      ],
      "metadata": {
        "colab": {
          "base_uri": "https://localhost:8080/"
        },
        "id": "IqJ4o7ww9Y0n",
        "outputId": "ce7cee24-1e77-4462-d7e0-1f8c7696ac8f"
      },
      "execution_count": null,
      "outputs": [
        {
          "output_type": "stream",
          "name": "stdout",
          "text": [
            "\n",
            "Cleaned Dataset - K-means:\n",
            "      N     P     K  temperature   humidity        ph    rainfall\n",
            "0  90.0  42.0  43.0    20.879744  82.002744  6.502985  202.935536\n",
            "1  85.0  58.0  41.0    21.770462  80.319644  7.038096  226.655537\n",
            "2  60.0  55.0  44.0    23.004459  82.320763  7.840207  263.964248\n",
            "3  74.0  35.0  40.0    26.491096  80.158363  6.980401  242.864034\n",
            "4  78.0  42.0  42.0    20.130175  81.604873  7.628473  262.717340\n"
          ]
        }
      ]
    },
    {
      "cell_type": "code",
      "source": [
        "# 4. Fill missing values with a fixed value (e.g., 0)\n",
        "df_fixed_value = df.fillna(0)\n",
        "\n",
        "print(\"\\nCleaned Dataset - Fixed Value:\")\n",
        "print(df_fixed_value.head())"
      ],
      "metadata": {
        "colab": {
          "base_uri": "https://localhost:8080/"
        },
        "id": "nvvmtr079ZxN",
        "outputId": "1a072309-8bae-464f-8cf1-f7a2f43e91f9"
      },
      "execution_count": null,
      "outputs": [
        {
          "output_type": "stream",
          "name": "stdout",
          "text": [
            "\n",
            "Cleaned Dataset - Fixed Value:\n",
            "      N     P     K  temperature   humidity        ph    rainfall\n",
            "0  90.0  42.0  43.0    20.879744  82.002744  6.502985  202.935536\n",
            "1  85.0  58.0  41.0    21.770462  80.319644  7.038096  226.655537\n",
            "2  60.0  55.0  44.0    23.004459  82.320763  7.840207  263.964248\n",
            "3  74.0  35.0  40.0    26.491096  80.158363  6.980401  242.864034\n",
            "4  78.0  42.0  42.0    20.130175  81.604873  7.628473  262.717340\n"
          ]
        }
      ]
    },
    {
      "cell_type": "code",
      "source": [
        "# 5. Fill missing values with the most frequent value in the column\n",
        "df_most_frequent = df.apply(lambda x: x.fillna(x.value_counts().index[0]))\n",
        "\n",
        "print(\"\\nCleaned Dataset - Most Frequent Value:\")\n",
        "print(df_most_frequent.head())"
      ],
      "metadata": {
        "colab": {
          "base_uri": "https://localhost:8080/"
        },
        "id": "TEakdxfu9c4C",
        "outputId": "349acb72-f74d-4fdb-e389-035e6f4da207"
      },
      "execution_count": null,
      "outputs": [
        {
          "output_type": "stream",
          "name": "stdout",
          "text": [
            "\n",
            "Cleaned Dataset - Most Frequent Value:\n",
            "      N     P     K  temperature   humidity        ph    rainfall\n",
            "0  90.0  42.0  43.0    20.879744  82.002744  6.502985  202.935536\n",
            "1  85.0  58.0  41.0    21.770462  80.319644  7.038096  226.655537\n",
            "2  60.0  55.0  44.0    23.004459  82.320763  7.840207  263.964248\n",
            "3  74.0  35.0  40.0    26.491096  80.158363  6.980401  242.864034\n",
            "4  78.0  42.0  42.0    20.130175  81.604873  7.628473  262.717340\n"
          ]
        }
      ]
    },
    {
      "cell_type": "code",
      "source": [
        "# 6. Fill missing values using linear interpolation\n",
        "df_interpolated = df.interpolate()\n",
        "\n",
        "# Display cleaned datasets\n",
        "print(\"\\nCleaned Dataset - Interpolated:\")\n",
        "print(df_interpolated.head())"
      ],
      "metadata": {
        "colab": {
          "base_uri": "https://localhost:8080/"
        },
        "id": "pIC0_YQj9jBb",
        "outputId": "2aad1d4e-9d54-4bc7-c924-5ef606983ae7"
      },
      "execution_count": null,
      "outputs": [
        {
          "output_type": "stream",
          "name": "stdout",
          "text": [
            "\n",
            "Cleaned Dataset - Interpolated:\n",
            "      N     P     K  temperature   humidity        ph    rainfall\n",
            "0  90.0  42.0  43.0    20.879744  82.002744  6.502985  202.935536\n",
            "1  85.0  58.0  41.0    21.770462  80.319644  7.038096  226.655537\n",
            "2  60.0  55.0  44.0    23.004459  82.320763  7.840207  263.964248\n",
            "3  74.0  35.0  40.0    26.491096  80.158363  6.980401  242.864034\n",
            "4  78.0  42.0  42.0    20.130175  81.604873  7.628473  262.717340\n"
          ]
        }
      ]
    }
  ]
}